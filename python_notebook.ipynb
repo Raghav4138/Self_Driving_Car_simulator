{
 "cells": [
  {
   "cell_type": "code",
   "execution_count": 1,
   "metadata": {
    "colab": {
     "base_uri": "https://localhost:8080/"
    },
    "id": "_XaQdqw-6lXy",
    "outputId": "6b043e81-a7d3-48b7-d767-019248ad17a1"
   },
   "outputs": [
    {
     "name": "stderr",
     "output_type": "stream",
     "text": [
      "'git' is not recognized as an internal or external command,\n",
      "operable program or batch file.\n"
     ]
    }
   ],
   "source": [
    "#downloading data\n",
    "!git clone https://github.com/rslim087a/track"
   ]
  },
  {
   "cell_type": "code",
   "execution_count": null,
   "metadata": {
    "id": "i2ylSdj17IEl"
   },
   "outputs": [],
   "source": [
    "# importing the necessary libraries\n",
    "import os\n",
    "import numpy as np\n",
    "import matplotlib.pyplot as plt\n",
    "import matplotlib.image as mpimg\n",
    "from tensorflow import keras\n",
    "import tensorflow as tf\n",
    "from keras.models import Sequential\n",
    "from keras.layers import Convolution2D, MaxPooling2D, Dropout, Flatten, Dense, Conv2D\n",
    "from sklearn.utils import shuffle\n",
    "from sklearn.model_selection import train_test_split\n",
    "from imgaug import augmenters as iaa\n",
    "import cv2\n",
    "import pandas as pd\n",
    "import ntpath\n",
    "import random"
   ]
  },
  {
   "cell_type": "code",
   "execution_count": null,
   "metadata": {
    "colab": {
     "base_uri": "https://localhost:8080/",
     "height": 206
    },
    "id": "2_GeJRUU71ka",
    "outputId": "f639bba7-e509-4c96-f7c1-1a4ba42d5fbe"
   },
   "outputs": [],
   "source": [
    "# reading the data from the csv file\n",
    "datadir = 'track'\n",
    "columns = ['center','left','right','steering','throttle','reverse','speed']\n",
    "data = pd.read_csv(os.path.join(datadir,'driving_log.csv'), names = columns)\n",
    "data.head()"
   ]
  },
  {
   "cell_type": "markdown",
   "metadata": {},
   "source": [
    "Visualising and Pre-Processing the DATA"
   ]
  },
  {
   "cell_type": "code",
   "execution_count": null,
   "metadata": {
    "colab": {
     "base_uri": "https://localhost:8080/",
     "height": 206
    },
    "id": "Ng77x5uG8nTk",
    "outputId": "f0f1606b-f42e-4380-c485-4eb868211e9b"
   },
   "outputs": [],
   "source": [
    "def path_leaf(path):\n",
    "  head, tail = ntpath.split(path)\n",
    "  return tail\n",
    "\n",
    "data['center'] = data['center'].apply(path_leaf)\n",
    "data['left'] = data['left'].apply(path_leaf)\n",
    "data['right'] = data['right'].apply(path_leaf)\n",
    "data.head()"
   ]
  },
  {
   "cell_type": "code",
   "execution_count": null,
   "metadata": {
    "colab": {
     "base_uri": "https://localhost:8080/",
     "height": 447
    },
    "id": "uQ7A4Eyp9n2U",
    "outputId": "c0cbbb9e-93ab-4be9-dd61-908d0423b9bf"
   },
   "outputs": [],
   "source": [
    "num_bins = 25\n",
    "samples_per_bin = 400\n",
    "hist, bins = np.histogram(data['steering'], num_bins)\n",
    "center = (bins[:1]+bins[1:])*0.5\n",
    "plt.bar(center, hist, width=0.05)\n",
    "plt.plot((np.min(data['steering']), np.max(data['steering'])), (samples_per_bin, samples_per_bin))"
   ]
  },
  {
   "cell_type": "code",
   "execution_count": null,
   "metadata": {
    "colab": {
     "base_uri": "https://localhost:8080/"
    },
    "id": "50JHGLpB-KFz",
    "outputId": "9acce0f7-85d9-4868-d7ff-048eb6eb27ef"
   },
   "outputs": [],
   "source": [
    "print(\"Total Data: \", len(data))\n",
    "print(data.shape)"
   ]
  },
  {
   "cell_type": "code",
   "execution_count": null,
   "metadata": {
    "colab": {
     "base_uri": "https://localhost:8080/"
    },
    "id": "Z4IQhNTo_KVE",
    "outputId": "6a152083-8ab1-49c8-9364-df92209be038"
   },
   "outputs": [],
   "source": [
    "remove_list = []\n",
    "for j in range(num_bins):\n",
    "  list_ = []\n",
    "  for i in range(len(data['steering'])):\n",
    "    if data['steering'][i] >= bins[j] and data['steering'][i] <= bins[j+1]:\n",
    "      list_.append(i)\n",
    "  list_ = shuffle(list_)\n",
    "  list_ = list_[samples_per_bin:]\n",
    "  remove_list.extend(list_)\n",
    "\n",
    "print('removed: ', len(remove_list))\n",
    "data.drop(data.index[remove_list],inplace=True)\n",
    "print('remaining: ', len(data))"
   ]
  },
  {
   "cell_type": "markdown",
   "metadata": {},
   "source": [
    "this removal is done to prevent overfitting to the 0 degree stearing angle"
   ]
  },
  {
   "cell_type": "code",
   "execution_count": null,
   "metadata": {
    "colab": {
     "base_uri": "https://localhost:8080/",
     "height": 447
    },
    "id": "iLdLOjSp7ljB",
    "outputId": "8f829859-b733-4563-d450-450290a3ff89"
   },
   "outputs": [],
   "source": [
    "hist, _ = np.histogram(data['steering'], (num_bins))\n",
    "plt.bar(center, hist, width=0.03)\n",
    "plt.plot((np.min(data['steering']), np.max(data['steering'])), (samples_per_bin, samples_per_bin))"
   ]
  },
  {
   "cell_type": "code",
   "execution_count": null,
   "metadata": {
    "id": "bbbRXMP28n4f"
   },
   "outputs": [],
   "source": [
    "def load_img_steering(datadir, df):\n",
    "  image_path = []\n",
    "  steering = []\n",
    "  for i in range(len(data)):\n",
    "    indexed_data = data.iloc[i]\n",
    "    center, left, right = indexed_data[0], indexed_data[1], indexed_data[2]\n",
    "    image_path.append(os.path.join(datadir,center.strip()))\n",
    "    steering.append(float(indexed_data[3]))\n",
    "    #left image append\n",
    "    image_path.append(os.path.join(datadir, left.strip()))\n",
    "    steering.append(float(indexed_data[3])+0.15)\n",
    "    #right image append\n",
    "    image_path.append(os.path.join(datadir, right.strip()))\n",
    "    steering.append(float(indexed_data[3])-0.15)\n",
    "  image_paths = np.asarray(image_path)\n",
    "  steerings = np.asarray(steering)\n",
    "  return image_paths, steerings"
   ]
  },
  {
   "cell_type": "code",
   "execution_count": null,
   "metadata": {
    "colab": {
     "base_uri": "https://localhost:8080/"
    },
    "id": "Qlb5XT_B_EDR",
    "outputId": "882a8511-41a5-418e-c525-27f057a5f370"
   },
   "outputs": [],
   "source": [
    "image_paths, steerings = load_img_steering(datadir + '/IMG', data)\n",
    "image_paths"
   ]
  },
  {
   "cell_type": "code",
   "execution_count": null,
   "metadata": {
    "colab": {
     "base_uri": "https://localhost:8080/"
    },
    "id": "7lLZGub9-oTg",
    "outputId": "7bf17b4a-76f4-475a-aaa3-49f69276decd"
   },
   "outputs": [],
   "source": [
    "print(len(image_paths))\n",
    "print(len(steerings))"
   ]
  },
  {
   "cell_type": "code",
   "execution_count": null,
   "metadata": {
    "colab": {
     "base_uri": "https://localhost:8080/"
    },
    "id": "MgKCGD3P_85u",
    "outputId": "8d09efda-ea7b-4f79-d574-4eb51521b2f5"
   },
   "outputs": [],
   "source": [
    "X_train, X_valid, y_train, y_valid = train_test_split(image_paths, steerings, test_size=0.2, random_state=6)\n",
    "print('Training Samples: {}\\nValid Sample: {}'.format(len(X_train),len(X_valid)))"
   ]
  },
  {
   "cell_type": "code",
   "execution_count": null,
   "metadata": {
    "colab": {
     "base_uri": "https://localhost:8080/",
     "height": 408
    },
    "id": "3OWzL9nEAnf8",
    "outputId": "743555d2-af20-4e0c-801f-be1db359354d"
   },
   "outputs": [],
   "source": [
    "fig, axes = plt.subplots(1,2,figsize=(12,4))\n",
    "axes[0].hist(y_train, bins=num_bins, width=0.03, color='blue')\n",
    "axes[0].set_title(\"Training Data\")\n",
    "axes[1].hist(y_valid, bins=num_bins, width=0.03, color='red')\n",
    "axes[1].set_title('validation set')"
   ]
  },
  {
   "cell_type": "markdown",
   "metadata": {},
   "source": [
    "Data Augmentation"
   ]
  },
  {
   "cell_type": "code",
   "execution_count": null,
   "metadata": {
    "colab": {
     "base_uri": "https://localhost:8080/",
     "height": 423
    },
    "id": "lYe-MN2vCcpF",
    "outputId": "29398c15-7e95-4fae-ce05-5d04c1509644"
   },
   "outputs": [],
   "source": [
    "def zoom(image):\n",
    "  zoom = iaa.Affine(scale = (1,1.3))\n",
    "  image = zoom.augment_image(image)\n",
    "  return image\n",
    "\n",
    "image = image_paths[random.randint(0,1000)]\n",
    "original_image = mpimg.imread(image)\n",
    "zoomed_image = zoom(original_image)\n",
    "\n",
    "fig, axs = plt.subplots(1,2,figsize=(15,10))\n",
    "fig.tight_layout()\n",
    "\n",
    "axs[0].imshow(original_image)\n",
    "axs[0].set_title(\"Original_Image\")\n",
    "\n",
    "axs[1].imshow(zoomed_image)\n",
    "axs[1].set_title('Zoomed')"
   ]
  },
  {
   "cell_type": "code",
   "execution_count": null,
   "metadata": {
    "colab": {
     "base_uri": "https://localhost:8080/",
     "height": 423
    },
    "id": "wYddxi-DFO4m",
    "outputId": "679cebe1-5a96-424f-bd44-f77f6b6d5017"
   },
   "outputs": [],
   "source": [
    "def pan(image):\n",
    "  pan = iaa.Affine(translate_percent = {'x':(-0.1,0.1), 'y':(-0.1,0.1)})\n",
    "  image = pan.augment_image(image)\n",
    "  return image\n",
    "\n",
    "image = image_paths[random.randint(0,1000)]\n",
    "original_image = mpimg.imread(image)\n",
    "panned_image = pan(original_image)\n",
    "\n",
    "fig, axs = plt.subplots(1,2,figsize=(15,10))\n",
    "fig.tight_layout()\n",
    "\n",
    "axs[0].imshow(original_image)\n",
    "axs[0].set_title(\"Original_Image\")\n",
    "\n",
    "axs[1].imshow(panned_image)\n",
    "axs[1].set_title('panned')"
   ]
  },
  {
   "cell_type": "code",
   "execution_count": null,
   "metadata": {
    "colab": {
     "base_uri": "https://localhost:8080/",
     "height": 423
    },
    "id": "YKXcAL0JF8-j",
    "outputId": "3b36e51f-eb77-4198-fae3-e8795af07e68"
   },
   "outputs": [],
   "source": [
    "def img_random_brightness(image):\n",
    "  brightness = iaa.Multiply((0.2,1.2))\n",
    "  image = brightness.augment_image(image)\n",
    "  return image\n",
    "\n",
    "image = image_paths[random.randint(0,1000)]\n",
    "original_image = mpimg.imread(image)\n",
    "brightness_altered_image = img_random_brightness(original_image)\n",
    "\n",
    "fig, axs = plt.subplots(1,2,figsize=(15,10))\n",
    "fig.tight_layout()\n",
    "\n",
    "axs[0].imshow(original_image)\n",
    "axs[0].set_title(\"Original_Image\")\n",
    "\n",
    "axs[1].imshow(brightness_altered_image)\n",
    "axs[1].set_title('bright_')"
   ]
  },
  {
   "cell_type": "code",
   "execution_count": null,
   "metadata": {
    "colab": {
     "base_uri": "https://localhost:8080/",
     "height": 423
    },
    "id": "NQHScYStGaTN",
    "outputId": "481afcce-b5ea-434d-c8b0-043dbb6d686e"
   },
   "outputs": [],
   "source": [
    "def img_random_flip(image, steering_angle):\n",
    "  image = cv2.flip(image,1)\n",
    "  steering_angle = -steering_angle\n",
    "  return image, steering_angle\n",
    "\n",
    "random_index = random.randint(0,1000)\n",
    "image = image_paths[random_index]\n",
    "steering_angle = steerings[random_index]\n",
    "\n",
    "original_image = mpimg.imread(image)\n",
    "flipped_image, flipped_steering_angle = img_random_flip(original_image, steering_angle)\n",
    "\n",
    "fig, axs = plt.subplots(1,2,figsize=(15,10))\n",
    "fig.tight_layout()\n",
    "\n",
    "axs[0].imshow(original_image)\n",
    "axs[0].set_title(\"Original_Image\")\n",
    "\n",
    "axs[1].imshow(flipped_image)\n",
    "axs[1].set_title('FLIPPED')"
   ]
  },
  {
   "cell_type": "code",
   "execution_count": null,
   "metadata": {
    "id": "U0oDdaR5HkY8"
   },
   "outputs": [],
   "source": [
    "def random_augment(image, steering_angle):\n",
    "  image = mpimg.imread(image)\n",
    "  if np.random.rand() < 0.5:\n",
    "    image = pan(image)\n",
    "  if np.random.rand() < 0.5:\n",
    "    image = zoom(image)\n",
    "  if np.random.rand() < 0.5:\n",
    "    image = img_random_brightness(image)\n",
    "  if np.random.rand() < 0.5:\n",
    "    image, steering_angle = img_random_flip(image, steering_angle)\n",
    "\n",
    "  return image, steering_angle"
   ]
  },
  {
   "cell_type": "code",
   "execution_count": null,
   "metadata": {
    "colab": {
     "base_uri": "https://localhost:8080/",
     "height": 1000
    },
    "id": "u0oseTFkJXgn",
    "outputId": "25babdff-b5cc-46cd-8d81-0168c97acca1"
   },
   "outputs": [],
   "source": [
    "ncol = 2\n",
    "nrow = 10\n",
    "\n",
    "fig, axs = plt.subplots(nrow, ncol, figsize=(15,50))\n",
    "fig.tight_layout()\n",
    "\n",
    "for i in range(10):\n",
    "  randnum = random.randint(0,len(image_paths)-1)\n",
    "  random_image = image_paths[randnum]\n",
    "  random_steering = steerings[randnum]\n",
    "\n",
    "  original_image = mpimg.imread(random_image)\n",
    "  augmented_image, steering = random_augment(random_image, random_steering)\n",
    "\n",
    "  axs[i][0].imshow(original_image)\n",
    "  axs[i][1].imshow(augmented_image)"
   ]
  },
  {
   "cell_type": "code",
   "execution_count": null,
   "metadata": {
    "id": "NNhTxezIKRJJ"
   },
   "outputs": [],
   "source": [
    "def img_preprocess(img):\n",
    "  img = img[60:135,:,:]\n",
    "  img = cv2.cvtColor(img, cv2.COLOR_RGB2YUV)\n",
    "  img = cv2.GaussianBlur(img, (3,3), 0)\n",
    "  img = cv2.resize(img, (200,66))\n",
    "  img = img/255\n",
    "  return img"
   ]
  },
  {
   "cell_type": "code",
   "execution_count": null,
   "metadata": {
    "colab": {
     "base_uri": "https://localhost:8080/",
     "height": 423
    },
    "id": "CfKxTfAIMBWI",
    "outputId": "c0048668-64ce-4a22-ff32-9790b711a294"
   },
   "outputs": [],
   "source": [
    "image = image_paths[100]\n",
    "original_image = mpimg.imread(image)\n",
    "preprocessed_image = img_preprocess(original_image)\n",
    "\n",
    "fig, axs = plt.subplots(1,2,figsize=(15,10))\n",
    "fig.tight_layout()\n",
    "\n",
    "axs[0].imshow(original_image)\n",
    "axs[0].set_title(\"Original_Image\")\n",
    "\n",
    "axs[1].imshow(preprocessed_image)\n",
    "axs[1].set_title('Preprocessed')"
   ]
  },
  {
   "cell_type": "code",
   "execution_count": null,
   "metadata": {
    "id": "_EN3QVuLRLx1"
   },
   "outputs": [],
   "source": [
    "def batch_generator(image_paths, steering_ang, batch_size, istraining):\n",
    "\n",
    "  while True:\n",
    "    batch_img = []\n",
    "    batch_steering = []\n",
    "\n",
    "    for i in range(batch_size):\n",
    "      random_index = random.randint(0, len(image_paths)-1)\n",
    "\n",
    "      if istraining:\n",
    "        im, steering = random_augment(image_paths[random_index], steering_ang[random_index])\n",
    "\n",
    "      else:\n",
    "        im = mpimg.imread(image_paths[random_index])\n",
    "        steering = steering_ang[random_index]\n",
    "\n",
    "      im = img_preprocess(im)\n",
    "      batch_img.append(im)\n",
    "      batch_steering.append(steering)\n",
    "    yield(np.asarray(batch_img), np.asarray(batch_steering))\n"
   ]
  },
  {
   "cell_type": "code",
   "execution_count": null,
   "metadata": {
    "id": "aAXyLZSFTmPE"
   },
   "outputs": [],
   "source": [
    "x_train_gen, y_train_gen = next(batch_generator(X_train, y_train, 1, 1))\n",
    "x_valid_gen, y_valid_gen = next(batch_generator(X_valid, y_valid, 1, 0))"
   ]
  },
  {
   "cell_type": "code",
   "execution_count": null,
   "metadata": {
    "colab": {
     "base_uri": "https://localhost:8080/",
     "height": 296
    },
    "id": "1n3s6ipIVdSP",
    "outputId": "743e3957-13df-4908-e17a-b3902946f831"
   },
   "outputs": [],
   "source": [
    "fig, axs = plt.subplots(1,2, figsize=(15,10))\n",
    "fig.tight_layout()\n",
    "\n",
    "axs[0].imshow(x_train_gen[0])\n",
    "axs[1].imshow(x_valid_gen[0])"
   ]
  },
  {
   "cell_type": "markdown",
   "metadata": {},
   "source": [
    "Main Model"
   ]
  },
  {
   "cell_type": "code",
   "execution_count": null,
   "metadata": {
    "colab": {
     "base_uri": "https://localhost:8080/"
    },
    "id": "6ytxiq3SW5zd",
    "outputId": "be590811-7f7f-4d70-e760-164021bcd160"
   },
   "outputs": [],
   "source": [
    "def nvidia_model():\n",
    "  model = Sequential()\n",
    "  model.add(Conv2D(24,(5,5), strides=(2,2), input_shape=(66,200,3), activation='elu'))\n",
    "  model.add(Conv2D(36, (5,5), strides=(2,2), activation='elu'))\n",
    "  model.add(Conv2D(48, (5,5), strides=(2,2), activation='elu'))\n",
    "  model.add(Conv2D(64, (5,5), activation='elu'))\n",
    "  # model.add(Conv2D(64, (3,3), activation='elu'))\n",
    "  # model.add(Dropout(0.5))\n",
    "\n",
    "  model.add(Flatten())\n",
    "\n",
    "  model.add(Dense(100, activation='elu'))\n",
    "  # model.add(Dropout(0.5))\n",
    "\n",
    "  model.add(Dense(50, activation='elu'))\n",
    "  # model.add(Dropout(0.5))\n",
    "\n",
    "  model.add(Dense(10, activation='elu'))\n",
    "  # model.add(Dropout(0.5))\n",
    "\n",
    "  model.add(Dense(1))\n",
    "\n",
    "  optimizer = tf.keras.optimizers.Adam(learning_rate=1e-3)\n",
    "  model.compile(loss='mse', optimizer=optimizer)\n",
    "  return model\n",
    "\n",
    "model = nvidia_model()\n",
    "print(model.summary())"
   ]
  },
  {
   "cell_type": "code",
   "execution_count": null,
   "metadata": {
    "colab": {
     "base_uri": "https://localhost:8080/",
     "height": 459
    },
    "id": "4jHczCJ1pzdl",
    "outputId": "a1193590-860e-4b58-8cf3-3ee0c318dba4"
   },
   "outputs": [],
   "source": [
    "history = model.fit_generator(batch_generator(X_train, y_train, 100,1),\n",
    "                              steps_per_epoch=300,\n",
    "                              epochs=10,\n",
    "                              validation_data=batch_generator(X_valid, y_valid, 100,0),\n",
    "                              validation_steps=200,\n",
    "                              verbose=1,\n",
    "                              shuffle = 1)"
   ]
  },
  {
   "cell_type": "code",
   "execution_count": null,
   "metadata": {
    "id": "SMuHCR5BIbfP"
   },
   "outputs": [],
   "source": [
    "model.save('model.h5')\n",
    "from google.colab import files\n",
    "files.download('model.h5')"
   ]
  },
  {
   "cell_type": "code",
   "execution_count": null,
   "metadata": {
    "id": "cYW65HXDrfsW"
   },
   "outputs": [],
   "source": [
    "plt.plot(history.history['loss'])\n",
    "plt.plot(history.history['val_loss'])\n",
    "plt.legend(['training','validation'])\n",
    "plt.title('loss')\n",
    "plt.xlabel('Epoch')"
   ]
  }
 ],
 "metadata": {
  "accelerator": "GPU",
  "colab": {
   "gpuType": "T4",
   "provenance": []
  },
  "kernelspec": {
   "display_name": "Python 3 (ipykernel)",
   "language": "python",
   "name": "python3"
  },
  "language_info": {
   "codemirror_mode": {
    "name": "ipython",
    "version": 3
   },
   "file_extension": ".py",
   "mimetype": "text/x-python",
   "name": "python",
   "nbconvert_exporter": "python",
   "pygments_lexer": "ipython3",
   "version": "3.11.5"
  }
 },
 "nbformat": 4,
 "nbformat_minor": 1
}
